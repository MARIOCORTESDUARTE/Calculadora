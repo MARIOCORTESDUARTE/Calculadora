{
 "cells": [
  {
   "cell_type": "markdown",
   "id": "22862080",
   "metadata": {},
   "source": [
    "Calculadora em Python\n",
    "Mario Duarte\n",
    "Fevereiro 2025"
   ]
  },
  {
   "cell_type": "code",
   "execution_count": 1,
   "id": "02ef54a7",
   "metadata": {},
   "outputs": [],
   "source": [
    "# Calculadora em Python\n",
    "# Mario Duarte\n",
    "# Fevereiro/2025\n"
   ]
  },
  {
   "cell_type": "code",
   "execution_count": 2,
   "id": "8d30ec44",
   "metadata": {},
   "outputs": [
    {
     "name": "stdout",
     "output_type": "stream",
     "text": [
      "\n",
      "******************* Calculadora em Python *******************\n",
      "\n",
      "*************************************************************\n",
      "\n",
      " \n",
      "\n",
      "Selecione o número da operação desejada: \n",
      "\n",
      "1 - Soma\n",
      "2 - Subtração\n",
      "3 - Multiplicação\n",
      "4 - Divisão\n",
      "\n",
      "Digite sua opção (1/2/3/4): 3\n",
      "\n",
      "Digite o primeiro número: 20\n",
      "\n",
      "Digite o segundo número: 30\n",
      "\n",
      "\n",
      "[600]\n",
      "\n",
      "\n"
     ]
    }
   ],
   "source": [
    "print(\"\\n******************* Calculadora em Python *******************\")\n",
    "print(\"\\n*************************************************************\")\n",
    "print(\"\\n \")\n",
    "\n",
    "# Definição das funções básicas: Soma, Subtração, Multiplicação e Divisão\n",
    "\n",
    "# Soma\n",
    "add = lambda x, y: [x + y]\n",
    "\n",
    "# Subtração\n",
    "subtract = lambda x, y: [x - y]\n",
    "\n",
    "# Multiplicação\n",
    "multiply = lambda x, y: [x * y]\n",
    "\n",
    "# Divisão\n",
    "divide = lambda x, y: [x / y]\n",
    "\n",
    "# Escolha da operação e números\n",
    "\n",
    "print(\"\\nSelecione o número da operação desejada: \\n\")\n",
    "print(\"1 - Soma\")\n",
    "print(\"2 - Subtração\")\n",
    "print(\"3 - Multiplicação\")\n",
    "print(\"4 - Divisão\")\n",
    "\n",
    "escolha = input(\"\\nDigite sua opção (1/2/3/4): \")\n",
    "\n",
    "num1 = int(input(\"\\nDigite o primeiro número: \"))\n",
    "num2 = int(input(\"\\nDigite o segundo número: \"))\n",
    "\n",
    "# Verifica opção escolhida e executa a operação\n",
    "if escolha == '1':\n",
    "    resultado = add(num1, num2)\n",
    "    print(\"\\n\")\n",
    "    print(resultado)\n",
    "    print(\"\\n\")\n",
    "\n",
    "elif escolha == '2':\n",
    "    resultado = subtract(num1, num2)\n",
    "    print(\"\\n\")\n",
    "    print(resultado)\n",
    "    print(\"\\n\")\n",
    "\n",
    "elif escolha == '3':\n",
    "    resultado = multiply(num1, num2)\n",
    "    print(\"\\n\")\n",
    "    print(resultado)\n",
    "    print(\"\\n\")\n",
    "\n",
    "elif escolha == '4':\n",
    "    resultado = divide(num1, num2)\n",
    "    print(\"\\n\")\n",
    "    print(resultado)\n",
    "    print(\"\\n\")\n",
    "\n",
    "else:\n",
    "    print(\"\\nOpção Inválida!\")"
   ]
  },
  {
   "cell_type": "markdown",
   "id": "a40461e7",
   "metadata": {},
   "source": [
    "\n",
    "## "
   ]
  },
  {
   "cell_type": "code",
   "execution_count": null,
   "id": "906c8c01",
   "metadata": {},
   "outputs": [],
   "source": []
  }
 ],
 "metadata": {
  "kernelspec": {
   "display_name": "Python 3 (ipykernel)",
   "language": "python",
   "name": "python3"
  },
  "language_info": {
   "codemirror_mode": {
    "name": "ipython",
    "version": 3
   },
   "file_extension": ".py",
   "mimetype": "text/x-python",
   "name": "python",
   "nbconvert_exporter": "python",
   "pygments_lexer": "ipython3",
   "version": "3.9.13"
  }
 },
 "nbformat": 4,
 "nbformat_minor": 5
}
